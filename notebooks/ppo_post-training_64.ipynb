{
 "cells": [
  {
   "cell_type": "code",
   "execution_count": null,
   "id": "eab13f29",
   "metadata": {},
   "outputs": [],
   "source": [
    "import os\n",
    "import gym\n",
    "import stable_baselines3\n",
    "import phoenix_simulation  # necessary to load our custom drone environments\n",
    "from stable_baselines3 import PPO, DDPG,SAC\n",
    "from stable_baselines3.common.evaluation import evaluate_policy\n",
    "from stable_baselines3.common.callbacks import EvalCallback\n",
    "from stable_baselines3.common.monitor import Monitor\n"
   ]
  },
  {
   "cell_type": "code",
   "execution_count": null,
   "id": "fbc8f410",
   "metadata": {},
   "outputs": [],
   "source": [
    "import os\n",
    "import gym\n",
    "import stable_baselines3\n",
    "import phoenix_simulation  # necessary to load our custom drone environments\n",
    "from stable_baselines3 import PPO, DDPG,SAC\n",
    "from stable_baselines3.common.evaluation import evaluate_policy\n",
    "from stable_baselines3.common.callbacks import EvalCallback\n",
    "from stable_baselines3.common.callbacks import CheckpointCallback\n",
    "\n",
    "from stable_baselines3.common.monitor import Monitor\n",
    "\n",
    "\n",
    "env_target = gym.make(\"DroneHoverPIDBulletEnv-v0\")\n",
    "\n",
    "eval_env = env_target\n",
    "eval_env=Monitor(eval_env)\n",
    "\n",
    "# Use deterministic actions for evaluation\n",
    "eval_callback = EvalCallback(eval_env, best_model_save_path='./ppo_eval_new/ppo_64/trial_10/',\n",
    "                             log_path='./test/', eval_freq=10000,\n",
    "                             deterministic=True, render=False,n_eval_episodes=5)\n",
    "\n",
    "\n",
    "\n",
    "\n",
    "\n",
    "\n",
    "save_callback=CheckpointCallback(save_freq=10000, save_path='./ppo_eval_new/ppo_64/trial_7/', name_prefix = \"rl_model\")\n",
    " \n",
    "# Use deterministic actions for evaluation\n",
    "\n",
    "callback_list=[eval_callback,save_callback]\n",
    "\n",
    "#callback_list=[eval_callback]\n",
    "\n",
    "ppo_post_trained=PPO.load('ppo_64_pre_best_4',env=env_target,tensorboard_log=\"./ppo_eval_new/ppo_64/\")\n",
    "\n",
    "\n",
    "ppo_rw_target=ppo_post_trained.learn(total_timesteps=int(1e6),callback=callback_list)\n"
   ]
  }
 ],
 "metadata": {
  "kernelspec": {
   "display_name": "Python [conda env:root] *",
   "language": "python",
   "name": "conda-root-py"
  },
  "language_info": {
   "codemirror_mode": {
    "name": "ipython",
    "version": 3
   },
   "file_extension": ".py",
   "mimetype": "text/x-python",
   "name": "python",
   "nbconvert_exporter": "python",
   "pygments_lexer": "ipython3",
   "version": "3.8.5"
  }
 },
 "nbformat": 4,
 "nbformat_minor": 5
}
