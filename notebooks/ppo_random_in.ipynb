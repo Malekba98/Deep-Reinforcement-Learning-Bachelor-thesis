{
 "cells": [
  {
   "cell_type": "code",
   "execution_count": null,
   "id": "ec0f57d7",
   "metadata": {},
   "outputs": [],
   "source": [
    "import os\n",
    "import gym\n",
    "import stable_baselines3\n",
    "import phoenix_simulation  # necessary to load our custom drone environments\n",
    "from stable_baselines3 import PPO, DDPG,SAC\n",
    "from stable_baselines3.common.evaluation import evaluate_policy\n",
    "from stable_baselines3.common.callbacks import EvalCallback\n",
    "\n",
    "\n",
    "%load_ext tensorboard \n"
   ]
  },
  {
   "cell_type": "code",
   "execution_count": null,
   "id": "4cf1d649",
   "metadata": {},
   "outputs": [],
   "source": [
    "env_target = gym.make(\"DroneHoverPIDBulletEnv-v0\")\n",
    "\n",
    "\n",
    "eval_env=env_target\n",
    "eval_callback=EvalCallback(eval_env, best_model_save_path='./ppo_random_in/trial_4/',\n",
    "                             log_path='./test/', eval_freq=50000,\n",
    "                             deterministic=True, render=False) \n",
    "\n",
    "\n",
    "\n",
    "PPO_model_target= PPO(\"MlpPolicy\", env_target,verbose=1,tensorboard_log=\"./ppo_random_in/\")\n",
    "# at least 1.000.000 total time steps are recommended\n",
    "ppo_rw_target=PPO_model_target.learn(total_timesteps=int(1e6), callback=eval_callback) \n"
   ]
  }
 ],
 "metadata": {
  "kernelspec": {
   "display_name": "Python [conda env:root] *",
   "language": "python",
   "name": "conda-root-py"
  },
  "language_info": {
   "codemirror_mode": {
    "name": "ipython",
    "version": 3
   },
   "file_extension": ".py",
   "mimetype": "text/x-python",
   "name": "python",
   "nbconvert_exporter": "python",
   "pygments_lexer": "ipython3",
   "version": "3.8.5"
  }
 },
 "nbformat": 4,
 "nbformat_minor": 5
}
